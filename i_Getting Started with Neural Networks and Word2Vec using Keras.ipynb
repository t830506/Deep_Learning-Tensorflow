{
 "cells": [
  {
   "cell_type": "code",
   "execution_count": 7,
   "metadata": {
    "collapsed": true
   },
   "outputs": [],
   "source": [
    "from IPython.display import Image\n",
    "from IPython.display import display\n",
    "import numpy as np\n",
    "\n",
    "# inline plotting instead of popping out\n",
    "%matplotlib inline\n",
    "\n",
    "# load utility classes/functions that has been taught in previous labs\n",
    "# e.g., plot_decision_regions()\n",
    "import os, sys\n",
    "module_path = os.path.abspath(os.path.join('.'))\n",
    "sys.path.append(module_path)\n",
    "from lib import *"
   ]
  },
  {
   "cell_type": "code",
   "execution_count": 2,
   "metadata": {
    "collapsed": false
   },
   "outputs": [
    {
     "name": "stderr",
     "output_type": "stream",
     "text": [
      "Using TensorFlow backend.\n",
      "/Users/Shawn/anaconda/lib/python3.6/site-packages/ipykernel/__main__.py:5: UserWarning: Update your `Dense` call to the Keras 2 API: `Dense(input_dim=512, units=32)`\n",
      "/Users/Shawn/anaconda/lib/python3.6/site-packages/ipykernel/__main__.py:7: UserWarning: Update your `Dense` call to the Keras 2 API: `Dense(units=1)`\n"
     ]
    }
   ],
   "source": [
    "from keras.models import Sequential\n",
    "from keras.layers import Dense, Activation\n",
    "\n",
    "model = Sequential() \n",
    "model.add(Dense(input_dim=512, output_dim=32))\n",
    "model.add(Activation('relu'))\n",
    "model.add(Dense(output_dim=1))\n",
    "model.add(Activation('sigmoid'))"
   ]
  },
  {
   "cell_type": "code",
   "execution_count": 3,
   "metadata": {
    "collapsed": true
   },
   "outputs": [],
   "source": [
    "# for a binary classification problem\n",
    "\n",
    "from keras.optimizers import SGD\n",
    "\n",
    "# instantiate an optimizer with specific parameters\n",
    "sgd = SGD(lr=0.01, decay=1e-6, momentum=0.9)\n",
    "model.compile(optimizer=sgd,\n",
    "              loss='binary_crossentropy',\n",
    "              metrics=['accuracy'])"
   ]
  },
  {
   "cell_type": "code",
   "execution_count": 4,
   "metadata": {
    "collapsed": true
   },
   "outputs": [],
   "source": [
    "def gen_nn(input_dim = 512, width = 32, depth = 2):\n",
    "    model = Sequential()\n",
    "    model.add(Dense(input_dim=input_dim, output_dim=width))\n",
    "    model.add(Activation('relu'))\n",
    "    for k in range(2, depth):\n",
    "        model.add(Dense(output_dim=width))\n",
    "        model.add(Activation('relu'))\n",
    "    model.add(Dense(output_dim=1))\n",
    "    model.add(Activation('sigmoid'))\n",
    "    model.compile(optimizer='sgd',\n",
    "                  loss='binary_crossentropy',\n",
    "                  metrics=['accuracy'])\n",
    "    return model"
   ]
  },
  {
   "cell_type": "code",
   "execution_count": 5,
   "metadata": {
    "collapsed": false
   },
   "outputs": [
    {
     "name": "stderr",
     "output_type": "stream",
     "text": [
      "Downloading dataset from http://people.csail.mit.edu/jrennie/20Newsgroups/20news-bydate.tar.gz (14 MB)\n"
     ]
    }
   ],
   "source": [
    "from sklearn.datasets import fetch_20newsgroups\n",
    "\n",
    "# we take 2 news groups:\n",
    "# 1) rec : recreational activities (entertainment)\n",
    "# 2) sci : science\n",
    "categories = [\n",
    "    'rec.autos',\n",
    "    'rec.motorcycles',\n",
    "    'rec.sport.baseball',\n",
    "    'rec.sport.hockey',\n",
    "    'sci.crypt',\n",
    "    'sci.electronics',\n",
    "    'sci.med',\n",
    "    'sci.space',\n",
    "]\n",
    "\n",
    "# remove the following context, we only need the content\n",
    "remove = ('headers', 'footers', 'quotes')\n",
    "\n",
    "# after fetching the data\n",
    "# content will store in newsgroups.data\n",
    "# label will store in newsgroups.target\n",
    "newsgroups = fetch_20newsgroups(subset = 'all', categories = categories,\n",
    "                                shuffle = True, random_state = 0, remove = remove)"
   ]
  },
  {
   "cell_type": "code",
   "execution_count": 8,
   "metadata": {
    "collapsed": false
   },
   "outputs": [
    {
     "name": "stdout",
     "output_type": "stream",
     "text": [
      "#Data size: 7931\n",
      "Labels: [0 1 2 3 4 5 6 7]\n"
     ]
    }
   ],
   "source": [
    "print('#Data size: %s' % np.shape(newsgroups.data))\n",
    "print('Labels: %s' % np.unique(newsgroups.target))"
   ]
  },
  {
   "cell_type": "code",
   "execution_count": 11,
   "metadata": {
    "collapsed": false
   },
   "outputs": [],
   "source": [
    "from sklearn.feature_extraction.text import TfidfVectorizer\n",
    "from sklearn.model_selection import train_test_split\n",
    "\n",
    "# for simplicity, we only take 512 features\n",
    "vectorizer = TfidfVectorizer(analyzer = 'word', ngram_range = (1, 1), max_features = 512, sublinear_tf = True, \n",
    "                             max_df = 0.5, preprocessor = None, tokenizer = None)\n",
    "\n",
    "X = vectorizer.fit_transform(newsgroups.data).toarray()\n",
    "y = (newsgroups.target > 3).astype(int)\n",
    "\n",
    "X_train, X_test, y_train, y_test = train_test_split(\n",
    "    X, y, test_size = 0.25, random_state = 0)\n",
    "\n",
    "# the dictionary map from word to feature index\n",
    "dictionary = vectorizer.vocabulary_\n",
    "\n",
    "# construct inverse_dictionary for later use\n",
    "inverse_dictionary = {v: k for k, v in dictionary.items()}"
   ]
  },
  {
   "cell_type": "code",
   "execution_count": 14,
   "metadata": {
    "collapsed": false
   },
   "outputs": [
    {
     "name": "stderr",
     "output_type": "stream",
     "text": [
      "/Users/Shawn/anaconda/lib/python3.6/site-packages/ipykernel/__main__.py:3: UserWarning: Update your `Dense` call to the Keras 2 API: `Dense(input_dim=512, units=32)`\n",
      "  app.launch_new_instance()\n",
      "/Users/Shawn/anaconda/lib/python3.6/site-packages/ipykernel/__main__.py:8: UserWarning: Update your `Dense` call to the Keras 2 API: `Dense(units=1)`\n",
      "/Users/Shawn/anaconda/lib/python3.6/site-packages/keras/models.py:837: UserWarning: The `nb_epoch` argument in `fit` has been renamed `epochs`.\n",
      "  warnings.warn('The `nb_epoch` argument in `fit` '\n"
     ]
    },
    {
     "name": "stdout",
     "output_type": "stream",
     "text": [
      "CPU times: user 2min 30s, sys: 51.3 s, total: 3min 21s\n",
      "Wall time: 2min 18s\n",
      "\n",
      "Test loss: 0.393\n",
      "Test accuracy: 0.819\n"
     ]
    }
   ],
   "source": [
    "import time\n",
    "\n",
    "batch_size = 32\n",
    "\n",
    "model = gen_nn(input_dim = X_train.shape[1])\n",
    "%time his = model.fit(X_train, y_train, nb_epoch=400, \\\n",
    "                      batch_size=batch_size, \\\n",
    "                      validation_split=0.2, \\\n",
    "                      shuffle=True, verbose=0)\n",
    "# evaluate trained model\n",
    "score = model.evaluate(X_test, y_test, verbose=0)\n",
    "print('\\nTest loss: %.3f' % score[0])\n",
    "print('Test accuracy: %.3f' % score[1])"
   ]
  },
  {
   "cell_type": "code",
   "execution_count": 16,
   "metadata": {
    "collapsed": false
   },
   "outputs": [
    {
     "data": {
      "image/png": "[encoded data removed]",
      "text/plain": [
       "<matplotlib.figure.Figure at 0x1237ddbe0>"
      ]
     },
     "metadata": {},
     "output_type": "display_data"
    }
   ],
   "source": [
    "import matplotlib.pyplot as plt\n",
    "\n",
    "train_loss = his.history['loss']\n",
    "val_loss = his.history['val_loss']\n",
    "\n",
    "# visualize training history\n",
    "plt.plot(range(1, len(train_loss)+1), train_loss, color='blue', label='Train loss')\n",
    "plt.plot(range(1, len(val_loss)+1), val_loss, color='red', label='Val loss')\n",
    "plt.legend(loc=\"upper right\")\n",
    "plt.xlabel('#Epoch')\n",
    "plt.ylabel('Loss')\n",
    "plt.savefig('./output/fig-nn-val.png', dpi=300)\n",
    "plt.show()"
   ]
  },
  {
   "cell_type": "code",
   "execution_count": 17,
   "metadata": {
    "collapsed": false
   },
   "outputs": [
    {
     "name": "stderr",
     "output_type": "stream",
     "text": [
      "/Users/Shawn/anaconda/lib/python3.6/site-packages/ipykernel/__main__.py:3: UserWarning: Update your `Dense` call to the Keras 2 API: `Dense(input_dim=512, units=32)`\n",
      "  app.launch_new_instance()\n",
      "/Users/Shawn/anaconda/lib/python3.6/site-packages/ipykernel/__main__.py:8: UserWarning: Update your `Dense` call to the Keras 2 API: `Dense(units=1)`\n",
      "/Users/Shawn/anaconda/lib/python3.6/site-packages/keras/models.py:837: UserWarning: The `nb_epoch` argument in `fit` has been renamed `epochs`.\n",
      "  warnings.warn('The `nb_epoch` argument in `fit` '\n"
     ]
    },
    {
     "name": "stdout",
     "output_type": "stream",
     "text": [
      "CPU times: user 53.5 s, sys: 19.9 s, total: 1min 13s\n",
      "Wall time: 46.8 s\n",
      "\n",
      "Test loss: 0.368\n",
      "Test accuracy: 0.822\n"
     ]
    }
   ],
   "source": [
    "model = gen_nn(input_dim=X_train.shape[1])\n",
    "%time his = model.fit(X_train, y_train, \\\n",
    "                      nb_epoch=150, \\\n",
    "                      batch_size=batch_size, \\\n",
    "                      validation_split=0.2, \\\n",
    "                      shuffle=True, verbose=0)\n",
    "# evaluate trained model\n",
    "score = model.evaluate(X_test, y_test, verbose=0)\n",
    "print('\\nTest loss: %.3f' % score[0])\n",
    "print('Test accuracy: %.3f' % score[1])"
   ]
  },
  {
   "cell_type": "code",
   "execution_count": 18,
   "metadata": {
    "collapsed": false
   },
   "outputs": [
    {
     "name": "stderr",
     "output_type": "stream",
     "text": [
      "/Users/Shawn/anaconda/lib/python3.6/site-packages/ipykernel/__main__.py:3: UserWarning: Update your `Dense` call to the Keras 2 API: `Dense(input_dim=512, units=32)`\n",
      "  app.launch_new_instance()\n",
      "/Users/Shawn/anaconda/lib/python3.6/site-packages/ipykernel/__main__.py:8: UserWarning: Update your `Dense` call to the Keras 2 API: `Dense(units=1)`\n",
      "/Users/Shawn/anaconda/lib/python3.6/site-packages/keras/models.py:837: UserWarning: The `nb_epoch` argument in `fit` has been renamed `epochs`.\n",
      "  warnings.warn('The `nb_epoch` argument in `fit` '\n"
     ]
    },
    {
     "name": "stdout",
     "output_type": "stream",
     "text": [
      "CPU times: user 1min 23s, sys: 26.2 s, total: 1min 49s\n",
      "Wall time: 1min 19s\n",
      "\n",
      "Test loss: 0.368\n",
      "Test accuracy: 0.823\n"
     ]
    },
    {
     "data": {
      "image/png": "[encoded data removed]",
      "text/plain": [
       "<matplotlib.figure.Figure at 0x12d824be0>"
      ]
     },
     "metadata": {},
     "output_type": "display_data"
    }
   ],
   "source": [
    "from keras.callbacks import EarlyStopping\n",
    "\n",
    "model = gen_nn(input_dim=X_train.shape[1])\n",
    "\n",
    "# monitor the validation loss\n",
    "# min_delta : minimum change in the monitored quantity to qualify as an improvement\n",
    "# patience : number of epochs with no improvement after which training will be stopped\n",
    "early_stop = EarlyStopping(monitor = 'val_loss', min_delta = 0, patience = 20, verbose = 0)\n",
    "\n",
    "%time his = model.fit(X_train, y_train, \\\n",
    "                      nb_epoch=1000, \\\n",
    "                      batch_size=batch_size, \\\n",
    "                      validation_split=0.2, \\\n",
    "                      shuffle=True, verbose=0, \\\n",
    "                      callbacks=[early_stop])\n",
    "\n",
    "# evaluate trained model\n",
    "score = model.evaluate(X_test, y_test, verbose=0)\n",
    "print('\\nTest loss: %.3f' % score[0])\n",
    "print('Test accuracy: %.3f' % score[1])\n",
    "\n",
    "train_loss = his.history['loss']\n",
    "val_loss = his.history['val_loss']\n",
    "\n",
    "# visualize training history\n",
    "plt.plot(range(1, len(train_loss)+1), train_loss, color='blue', label='Train loss')\n",
    "plt.plot(range(1, len(val_loss)+1), val_loss, color='red', label='Val loss')\n",
    "plt.xlim(0, len(train_loss))\n",
    "plt.legend(loc=\"upper right\")\n",
    "plt.xlabel('#Epoch')\n",
    "plt.ylabel('Loss')\n",
    "#plt.savefig('./output/fig-nn-val-earlystop.png', dpi=300)\n",
    "plt.show()"
   ]
  },
  {
   "cell_type": "code",
   "execution_count": 20,
   "metadata": {
    "collapsed": false
   },
   "outputs": [
    {
     "ename": "NameError",
     "evalue": "name 'tokenizer_stem_nostop' is not defined",
     "output_type": "error",
     "traceback": [
      "\u001b[0;31m---------------------------------------------------------------------------\u001b[0m",
      "\u001b[0;31mNameError\u001b[0m                                 Traceback (most recent call last)",
      "\u001b[0;32m<ipython-input-20-74561f125943>\u001b[0m in \u001b[0;36m<module>\u001b[0;34m()\u001b[0m\n\u001b[1;32m      4\u001b[0m \u001b[0mcorpus\u001b[0m \u001b[0;34m=\u001b[0m \u001b[0;34m[\u001b[0m\u001b[0;34m]\u001b[0m\u001b[0;34m\u001b[0m\u001b[0m\n\u001b[1;32m      5\u001b[0m \u001b[0;32mfor\u001b[0m \u001b[0mtext\u001b[0m \u001b[0;32min\u001b[0m \u001b[0mnewsgroups\u001b[0m\u001b[0;34m.\u001b[0m\u001b[0mdata\u001b[0m\u001b[0;34m:\u001b[0m\u001b[0;34m\u001b[0m\u001b[0m\n\u001b[0;32m----> 6\u001b[0;31m     \u001b[0mcorpus\u001b[0m\u001b[0;34m.\u001b[0m\u001b[0mappend\u001b[0m\u001b[0;34m(\u001b[0m\u001b[0mtokenizer_stem_nostop\u001b[0m\u001b[0;34m(\u001b[0m\u001b[0mpreprocessor\u001b[0m\u001b[0;34m(\u001b[0m\u001b[0mtext\u001b[0m\u001b[0;34m)\u001b[0m\u001b[0;34m)\u001b[0m\u001b[0;34m)\u001b[0m\u001b[0;34m\u001b[0m\u001b[0m\n\u001b[0m\u001b[1;32m      7\u001b[0m \u001b[0;34m\u001b[0m\u001b[0m\n\u001b[1;32m      8\u001b[0m \u001b[0;31m# size : embed dimension\u001b[0m\u001b[0;34m\u001b[0m\u001b[0;34m\u001b[0m\u001b[0m\n",
      "\u001b[0;31mNameError\u001b[0m: name 'tokenizer_stem_nostop' is not defined"
     ]
    }
   ],
   "source": [
    "import gensim\n",
    "\n",
    "# preprocess the text\n",
    "corpus = []\n",
    "for text in newsgroups.data:\n",
    "    corpus.append(tokenizer_stem_nostop(preprocessor(text)))\n",
    "\n",
    "# size : embed dimension\n",
    "# min_count : filter words without min frequency\n",
    "# sg : 0 for CBOW; 1 for skip-gram\n",
    "# negative : how many noise words should be drawn\n",
    "%time model_w2v = gensim.models.Word2Vec(corpus, size=64, min_count=5, sg=1, negative=5, workers=2)"
   ]
  },
  {
   "cell_type": "code",
   "execution_count": null,
   "metadata": {
    "collapsed": true
   },
   "outputs": [],
   "source": []
  }
 ],
 "metadata": {
  "kernelspec": {
   "display_name": "Python 3",
   "language": "python",
   "name": "python3"
  },
  "language_info": {
   "codemirror_mode": {
    "name": "ipython",
    "version": 3
   },
   "file_extension": ".py",
   "mimetype": "text/x-python",
   "name": "python",
   "nbconvert_exporter": "python",
   "pygments_lexer": "ipython3",
   "version": "3.6.0"
  }
 },
 "nbformat": 4,
 "nbformat_minor": 2
}
