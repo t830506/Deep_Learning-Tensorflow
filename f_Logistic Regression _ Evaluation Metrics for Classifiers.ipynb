{
 "cells": [
  {
   "cell_type": "code",
   "execution_count": 2,
   "metadata": {
    "collapsed": false
   },
   "outputs": [],
   "source": [
    "from IPython.display import Image\n",
    "\n",
    "# load utility classes/functions that has been taught in previous labs\n",
    "# e.g., plot_decision_regions()\n",
    "import os, sys\n",
    "module_path = os.path.abspath(os.path.join('.'))\n",
    "sys.path.append(module_path)\n",
    "from lib import *\n"
   ]
  },
  {
   "cell_type": "code",
   "execution_count": 3,
   "metadata": {
    "collapsed": false
   },
   "outputs": [
    {
     "data": {
      "image/png": "[encoded data removed]",
      "text/plain": [
       "<matplotlib.figure.Figure at 0x10a070910>"
      ]
     },
     "metadata": {},
     "output_type": "display_data"
    }
   ],
   "source": [
    "import matplotlib.pyplot as plt\n",
    "import numpy as np\n",
    "\n",
    "def logistic(z):\n",
    "    return 1.0 / (1.0 + np.exp(-z))\n",
    "\n",
    "z = np.arange(-7, 7, 0.1)\n",
    "sigma = logistic(z)\n",
    "\n",
    "plt.plot(z, sigma)\n",
    "\n",
    "plt.axvline(0.0, color='k')\n",
    "plt.ylim(-0.1, 1.1)\n",
    "plt.xlabel('z')\n",
    "plt.ylabel('$\\sigma(z)$')\n",
    "plt.title('Logistic function')\n",
    "\n",
    "plt.hlines(y=1.0, xmin=-7, xmax=7, color='red', linewidth = 1, linestyle = '--')\n",
    "plt.hlines(y=0.5, xmin=-7, xmax=7, color='red', linewidth = 1, linestyle = '--')\n",
    "plt.hlines(y=0, xmin=-7, xmax=7, color='red', linewidth = 1, linestyle = '--')\n",
    "\n",
    "plt.tight_layout()\n",
    "plt.savefig('./output/fig-logistic.png', dpi=300)\n",
    "plt.show()\n"
   ]
  },
  {
   "cell_type": "code",
   "execution_count": 4,
   "metadata": {
    "collapsed": false
   },
   "outputs": [
    {
     "data": {
      "text/html": [
       "<div>\n",
       "<table border=\"1\" class=\"dataframe\">\n",
       "  <thead>\n",
       "    <tr style=\"text-align: right;\">\n",
       "      <th></th>\n",
       "      <th>Sepal length</th>\n",
       "      <th>Sepal width</th>\n",
       "      <th>Petal length</th>\n",
       "      <th>Petal width</th>\n",
       "      <th>Class label</th>\n",
       "    </tr>\n",
       "  </thead>\n",
       "  <tbody>\n",
       "    <tr>\n",
       "      <th>0</th>\n",
       "      <td>5.1</td>\n",
       "      <td>3.5</td>\n",
       "      <td>1.4</td>\n",
       "      <td>0.2</td>\n",
       "      <td>Iris-setosa</td>\n",
       "    </tr>\n",
       "    <tr>\n",
       "      <th>1</th>\n",
       "      <td>4.9</td>\n",
       "      <td>3.0</td>\n",
       "      <td>1.4</td>\n",
       "      <td>0.2</td>\n",
       "      <td>Iris-setosa</td>\n",
       "    </tr>\n",
       "    <tr>\n",
       "      <th>2</th>\n",
       "      <td>4.7</td>\n",
       "      <td>3.2</td>\n",
       "      <td>1.3</td>\n",
       "      <td>0.2</td>\n",
       "      <td>Iris-setosa</td>\n",
       "    </tr>\n",
       "    <tr>\n",
       "      <th>3</th>\n",
       "      <td>4.6</td>\n",
       "      <td>3.1</td>\n",
       "      <td>1.5</td>\n",
       "      <td>0.2</td>\n",
       "      <td>Iris-setosa</td>\n",
       "    </tr>\n",
       "    <tr>\n",
       "      <th>4</th>\n",
       "      <td>5.0</td>\n",
       "      <td>3.6</td>\n",
       "      <td>1.4</td>\n",
       "      <td>0.2</td>\n",
       "      <td>Iris-setosa</td>\n",
       "    </tr>\n",
       "  </tbody>\n",
       "</table>\n",
       "</div>"
      ],
      "text/plain": [
       "   Sepal length  Sepal width  Petal length  Petal width  Class label\n",
       "0           5.1          3.5           1.4          0.2  Iris-setosa\n",
       "1           4.9          3.0           1.4          0.2  Iris-setosa\n",
       "2           4.7          3.2           1.3          0.2  Iris-setosa\n",
       "3           4.6          3.1           1.5          0.2  Iris-setosa\n",
       "4           5.0          3.6           1.4          0.2  Iris-setosa"
      ]
     },
     "metadata": {},
     "output_type": "display_data"
    },
    {
     "name": "stdout",
     "output_type": "stream",
     "text": [
      "#Training data points: 80\n",
      "#Testing data points: 20\n",
      "Class labels: [0 1] (mapped from ['Iris-versicolor' 'Iris-virginica'])\n"
     ]
    }
   ],
   "source": [
    "### import datasets, two labels, two features.\n",
    "\n",
    "import pandas as pd\n",
    "from IPython.display import display\n",
    "from sklearn.model_selection import train_test_split\n",
    "\n",
    "df = pd.read_csv('https://archive.ics.uci.edu/ml/'\n",
    "        'machine-learning-databases/iris/iris.data', header=None)\n",
    "df.columns = ['Sepal length', 'Sepal width', 'Petal length', 'Petal width', 'Class label']\n",
    "display(df.head())\n",
    "\n",
    "# for simplicity, consider only two features and two classes\n",
    "\n",
    "X = df[['Petal length', 'Petal width']].values[50:150,]\n",
    "y, y_label = pd.factorize(df['Class label'].values[50:150])\n",
    "\n",
    "X_train, X_test, y_train, y_test = train_test_split(\n",
    "    X, y, test_size=0.2, random_state=1)\n",
    "\n",
    "print('#Training data points: %d' % X_train.shape[0])\n",
    "print('#Testing data points: %d' % X_test.shape[0])\n",
    "print('Class labels: %s (mapped from %s)' % (np.unique(y), np.unique(y_label)))\n",
    "\n",
    "# Standarize X\n",
    "\n",
    "from sklearn.preprocessing import StandardScaler\n",
    "\n",
    "sc = StandardScaler()\n",
    "sc.fit(X_train)\n",
    "X_train_std = sc.transform(X_train)\n",
    "X_test_std = sc.transform(X_test)"
   ]
  },
  {
   "cell_type": "code",
   "execution_count": 26,
   "metadata": {
    "collapsed": false
   },
   "outputs": [
    {
     "data": {
      "image/png": "[encoded data removed]",
      "text/plain": [
       "<matplotlib.figure.Figure at 0x1195cc090>"
      ]
     },
     "metadata": {},
     "output_type": "display_data"
    }
   ],
   "source": [
    "### Use logistic regression to train.\n",
    "\n",
    "from mlxtend.plotting import plot_decision_regions\n",
    "from sklearn.linear_model import LogisticRegression\n",
    "\n",
    "lr = LogisticRegression(C=1000.0, random_state=0)\n",
    "lr.fit(X_train_std, y_train)\n",
    "\n",
    "# plot decision regions\n",
    "\n",
    "plot_decision_regions(X_train_std, y_train, clf=lr)\n",
    "\n",
    "plt.xlabel('Petal length [Standardized]')\n",
    "plt.ylabel('Petal width [Standardized]')\n",
    "plt.title('Train', fontsize = 16)\n",
    "\n",
    "plt.tight_layout()\n",
    "plt.savefig('./output/fig-logistic-regression-boundray-train-2.png', dpi=300)\n",
    "plt.show()"
   ]
  },
  {
   "cell_type": "code",
   "execution_count": 25,
   "metadata": {
    "collapsed": false
   },
   "outputs": [
    {
     "data": {
      "image/png": "[encoded data removed]",
      "text/plain": [
       "<matplotlib.figure.Figure at 0x1191ae050>"
      ]
     },
     "metadata": {},
     "output_type": "display_data"
    }
   ],
   "source": [
    "### Use logistic regression to test.\n",
    "\n",
    "from mlxtend.plotting import plot_decision_regions\n",
    "from sklearn.linear_model import LogisticRegression\n",
    "\n",
    "lr = LogisticRegression(C=1000.0, random_state=0)\n",
    "lr.fit(X_train_std, y_train)\n",
    "\n",
    "# plot decision regions\n",
    "\n",
    "plot_decision_regions(X_test_std, y_test, clf=lr)\n",
    "\n",
    "plt.xlabel('Petal length [Standardized]')\n",
    "plt.ylabel('Petal width [Standardized]')\n",
    "plt.title('Test', fontsize = 16)\n",
    "\n",
    "plt.tight_layout()\n",
    "plt.savefig('./output/fig-logistic-regression-boundray-test-2.png', dpi=300)\n",
    "plt.show()"
   ]
  },
  {
   "cell_type": "code",
   "execution_count": 30,
   "metadata": {
    "collapsed": false
   },
   "outputs": [
    {
     "name": "stdout",
     "output_type": "stream",
     "text": [
      "Prob for class Iris-versicolor: 0.01\n",
      "Prob for class Iris-virginica: 0.99\n",
      "Prob for class Iris-versicolor: 0.00\n",
      "Prob for class Iris-virginica: 1.00\n"
     ]
    }
   ],
   "source": [
    "prob1 = lr.predict_proba(X_test_std[1, :].reshape(1, -1))\n",
    "prob0 = lr.predict_proba(X_test_std[0, :].reshape(1, -1))\n",
    "\n",
    "print('Prob for class %s: %.2f' % (y_label[0], prob1[:, 0]))\n",
    "print('Prob for class %s: %.2f' % (y_label[1], prob1[:, 1]))\n",
    "print('Prob for class %s: %.2f' % (y_label[0], prob0[:, 0]))\n",
    "print('Prob for class %s: %.2f' % (y_label[1], prob0[:, 1]))\n"
   ]
  },
  {
   "cell_type": "code",
   "execution_count": 31,
   "metadata": {
    "collapsed": false
   },
   "outputs": [
    {
     "data": {
      "image/png": "[encoded data removed]",
      "text/plain": [
       "<matplotlib.figure.Figure at 0x11906a4d0>"
      ]
     },
     "metadata": {},
     "output_type": "display_data"
    }
   ],
   "source": [
    "### Regularization\n",
    "\n",
    "weights, params = [], []\n",
    "for c in np.arange(-5, 5):\n",
    "    lr = LogisticRegression(C=10**c, random_state=0)\n",
    "    lr.fit(X_train_std, y_train)\n",
    "    # get the coefficients of w\n",
    "    weights.append(lr.coef_[0])\n",
    "    params.append(10**c)\n",
    "\n",
    "weights = np.array(weights)\n",
    "plt.plot(params, weights[:, 0],\n",
    "         label='Petal length')\n",
    "plt.plot(params, weights[:, 1],\n",
    "         label='Petal width', linestyle='--')\n",
    "plt.xlim(10**4, 10**-5)\n",
    "plt.xscale('log')\n",
    "plt.xlabel('C')\n",
    "plt.ylabel('Weight coefficient')\n",
    "plt.legend(loc='upper right')\n",
    "plt.tight_layout()\n",
    "plt.savefig('./output/fig-logistic-regression-c.png', dpi=300)\n",
    "plt.show()\n"
   ]
  },
  {
   "cell_type": "code",
   "execution_count": 32,
   "metadata": {
    "collapsed": false
   },
   "outputs": [
    {
     "data": {
      "image/png": "[encoded data removed]",
      "text/plain": [
       "<matplotlib.figure.Figure at 0x119a34090>"
      ]
     },
     "metadata": {},
     "output_type": "display_data"
    }
   ],
   "source": [
    "### Evaluation Metrics for Binary Classifiers\n",
    "\n",
    "from sklearn.metrics import confusion_matrix\n",
    "\n",
    "lr = LogisticRegression(random_state=0)\n",
    "lr.fit(X_train_std, y_train)\n",
    "y_pred = lr.predict(X_test_std)\n",
    "confmat = confusion_matrix(y_true=y_test, y_pred=y_pred)\n",
    "\n",
    "fig, ax = plt.subplots(figsize=(3, 3))\n",
    "ax.matshow(confmat, cmap=plt.cm.Blues, alpha=0.3)\n",
    "for i in range(confmat.shape[0]):\n",
    "    for j in range(confmat.shape[1]):\n",
    "        ax.text(x=j, y=i, s=confmat[i, j], va='center', ha='center')\n",
    "\n",
    "plt.xlabel('Predicted label')\n",
    "plt.ylabel('True label')\n",
    "\n",
    "plt.tight_layout()\n",
    "plt.savefig('./output/fig-logistic-regression-confusion-2.png', dpi=300)\n",
    "plt.show()\n"
   ]
  },
  {
   "cell_type": "code",
   "execution_count": 34,
   "metadata": {
    "collapsed": false
   },
   "outputs": [
    {
     "data": {
      "image/png": "[encoded data removed]",
      "text/plain": [
       "<matplotlib.figure.Figure at 0x119a55f90>"
      ]
     },
     "metadata": {},
     "output_type": "display_data"
    }
   ],
   "source": [
    "### Receiver Operating Characteristic (ROC) Curve\n",
    "\n",
    "from sklearn.metrics import roc_curve\n",
    "from scipy import interp\n",
    "from cycler import cycler\n",
    "\n",
    "lr = LogisticRegression(random_state=0)\n",
    "lr.fit(X_train_std, y_train)\n",
    "\n",
    "fig = plt.figure(figsize=(5, 5))\n",
    "\n",
    "mean_tpr = 0.0\n",
    "mean_fpr = np.linspace(0, 1, 100)\n",
    "all_tpr = []\n",
    "\n",
    "probas = lr.predict_proba(X_test_std)\n",
    "\n",
    "fpr, tpr, thresholds = roc_curve(y_test, probas[:, 0], pos_label=0)\n",
    "\n",
    "plt.plot(fpr, tpr, lw=2, label='Logistic regression')\n",
    "    \n",
    "plt.plot([0, 1], [0, 1], linestyle='--', color='gray', label='Random guessing')\n",
    "\n",
    "plt.plot([0, 0, 1], [0, 1, 1], linestyle='--', color='gray',label='Perfect')\n",
    "\n",
    "plt.xlim([-0.05, 1.05])\n",
    "plt.ylim([-0.05, 1.05])\n",
    "plt.xlabel('FPR')\n",
    "plt.ylabel('TPR')\n",
    "plt.title('ROC Curve')\n",
    "\n",
    "plt.legend(loc=\"lower right\")\n",
    "plt.tight_layout()\n",
    "plt.savefig('./output/fig-roc-lg.png', dpi=300)\n",
    "plt.show()\n"
   ]
  },
  {
   "cell_type": "code",
   "execution_count": 35,
   "metadata": {
    "collapsed": false
   },
   "outputs": [
    {
     "name": "stdout",
     "output_type": "stream",
     "text": [
      "AUC: 0.98\n"
     ]
    }
   ],
   "source": [
    "### area below\n",
    "\n",
    "from sklearn.metrics import auc\n",
    "\n",
    "print('AUC: %.2f' % auc(fpr, tpr))"
   ]
  },
  {
   "cell_type": "code",
   "execution_count": 39,
   "metadata": {
    "collapsed": false
   },
   "outputs": [
    {
     "name": "stdout",
     "output_type": "stream",
     "text": [
      "#Training data points: 16 + 33 + 31 = 80\n",
      "#Testing data points: 4 + 17 + 19 = 40\n",
      "Class labels: [0 1 2] (mapped from ['Iris-setosa' 'Iris-versicolor' 'Iris-virginica'])\n"
     ]
    },
    {
     "data": {
      "image/png": "[encoded data removed]",
      "text/plain": [
       "<matplotlib.figure.Figure at 0x118751b50>"
      ]
     },
     "metadata": {},
     "output_type": "display_data"
    },
    {
     "data": {
      "image/png": "[encoded data removed]",
      "text/plain": [
       "<matplotlib.figure.Figure at 0x1194e49d0>"
      ]
     },
     "metadata": {},
     "output_type": "display_data"
    },
    {
     "name": "stdout",
     "output_type": "stream",
     "text": [
      "[Precision]\n",
      "Individual: 1.00, 0.94, 0.95\n",
      "Micro: 0.95\n",
      "Macro: 0.96\n",
      "\n",
      "[Recall]\n",
      "Individual: 1.00, 0.94, 0.95\n",
      "Micro: 0.95\n",
      "Macro: 0.96\n",
      "\n",
      "[F1-score]\n",
      "Individual: 1.00, 0.94, 0.95\n",
      "Micro: 0.95\n",
      "Macro: 0.96\n"
     ]
    }
   ],
   "source": [
    "### multivariate class\n",
    "\n",
    "from sklearn.metrics import precision_score, recall_score, f1_score\n",
    "from lib import *\n",
    "\n",
    "# prepare datasets\n",
    "\n",
    "X = df[['Petal length', 'Petal width']].values[30:150,]\n",
    "y, y_label = pd.factorize(df['Class label'].values[30:150])\n",
    "\n",
    "X_train, X_test, y_train, y_test = train_test_split(\n",
    "    X, y, test_size=0.33, random_state=1)\n",
    "\n",
    "print('#Training data points: %d + %d + %d = %d' % ((y_train == 0).sum(), \n",
    "                                                    (y_train == 1).sum(), \n",
    "                                                    (y_train == 2).sum(), \n",
    "                                                     y_train.size))\n",
    "print('#Testing data points: %d + %d + %d = %d' % ((y_test == 0).sum(), \n",
    "                                                    (y_test == 1).sum(), \n",
    "                                                    (y_test == 2).sum(), \n",
    "                                                     y_test.size))\n",
    "print('Class labels: %s (mapped from %s)' % (np.unique(y), np.unique(y_label)))\n",
    "\n",
    "# standarize X\n",
    "\n",
    "sc = StandardScaler()\n",
    "sc.fit(X_train)\n",
    "X_train_std = sc.transform(X_train)\n",
    "X_test_std = sc.transform(X_test)\n",
    "\n",
    "# training & testing\n",
    "\n",
    "lr = LogisticRegression(C=1000.0, random_state=0)\n",
    "lr.fit(X_train_std, y_train)\n",
    "y_pred = lr.predict(X_test_std)\n",
    "\n",
    "# plot decision regions\n",
    "\n",
    "X_combined_std = np.vstack((X_train_std, X_test_std))\n",
    "y_combined = np.hstack((y_train, y_test))\n",
    "\n",
    "plot_decision_regions(X_combined_std, y_combined,\n",
    "                      clf=lr)\n",
    "\n",
    "plt.xlabel('Petal length [Standardized]')\n",
    "plt.ylabel('Petal width [Standardized]')\n",
    "plt.legend(loc='lower right')\n",
    "plt.tight_layout()\n",
    "plt.savefig('./output/fig-logistic-regression-boundray-3.png', dpi=300)\n",
    "plt.show()\n",
    "\n",
    "# plot confusion matrix\n",
    "\n",
    "confmat = confusion_matrix(y_true=y_test, y_pred=y_pred)\n",
    "\n",
    "fig, ax = plt.subplots(figsize=(3, 3))\n",
    "ax.matshow(confmat, cmap=plt.cm.Blues, alpha=0.3)\n",
    "\n",
    "for i in range(confmat.shape[0]):\n",
    "    for j in range(confmat.shape[1]):\n",
    "        ax.text(x=j, y=i, s=confmat[i, j], va='center', ha='center')\n",
    "\n",
    "plt.xlabel('Predicted label')\n",
    "plt.ylabel('True label')\n",
    "\n",
    "plt.tight_layout()\n",
    "plt.savefig('./output/fig-logistic-regression-confusion-3.png', dpi=300)\n",
    "plt.show()\n",
    "\n",
    "# metrics\n",
    "\n",
    "print('[Precision]')\n",
    "p = precision_score(y_true=y_test, y_pred=y_pred, average=None)\n",
    "print('Individual: %.2f, %.2f, %.2f' % (p[0], p[1], p[2]))\n",
    "p = precision_score(y_true=y_test, y_pred=y_pred, average='micro')\n",
    "print('Micro: %.2f' % p)\n",
    "p = precision_score(y_true=y_test, y_pred=y_pred, average='macro')\n",
    "print('Macro: %.2f' % p)\n",
    "\n",
    "print('\\n[Recall]')\n",
    "r = recall_score(y_true=y_test, y_pred=y_pred,average=None)\n",
    "print('Individual: %.2f, %.2f, %.2f' % (r[0], r[1], r[2]))\n",
    "r = recall_score(y_true=y_test, y_pred=y_pred, average='micro')\n",
    "print('Micro: %.2f' % r)\n",
    "r = recall_score(y_true=y_test, y_pred=y_pred, average='macro')\n",
    "print('Macro: %.2f' % r)\n",
    "\n",
    "print('\\n[F1-score]')\n",
    "f = f1_score(y_true=y_test, y_pred=y_pred, average=None)\n",
    "print('Individual: %.2f, %.2f, %.2f' % (f[0], f[1], f[2]))\n",
    "f = f1_score(y_true=y_test, y_pred=y_pred, average='micro')\n",
    "print('Micro: %.2f' % f)\n",
    "f = f1_score(y_true=y_test, y_pred=y_pred, average='macro')\n",
    "print('Macro: %.2f' % f)\n"
   ]
  },
  {
   "cell_type": "code",
   "execution_count": null,
   "metadata": {
    "collapsed": true
   },
   "outputs": [],
   "source": []
  }
 ],
 "metadata": {
  "kernelspec": {
   "display_name": "Python 2",
   "language": "python",
   "name": "python2"
  },
  "language_info": {
   "codemirror_mode": {
    "name": "ipython",
    "version": 2
   },
   "file_extension": ".py",
   "mimetype": "text/x-python",
   "name": "python",
   "nbconvert_exporter": "python",
   "pygments_lexer": "ipython2",
   "version": "2.7.13"
  }
 },
 "nbformat": 4,
 "nbformat_minor": 2
}
