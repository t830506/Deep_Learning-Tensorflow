{
 "cells": [
  {
   "cell_type": "code",
   "execution_count": 1,
   "metadata": {},
   "outputs": [
    {
     "name": "stderr",
     "output_type": "stream",
     "text": [
      "/Users/unahsu/anaconda3/lib/python3.6/importlib/_bootstrap.py:219: RuntimeWarning: compiletime version 3.5 of module 'tensorflow.python.framework.fast_tensor_util' does not match runtime version 3.6\n",
      "  return f(*args, **kwds)\n"
     ]
    },
    {
     "name": "stdout",
     "output_type": "stream",
     "text": [
      "b'Hello, TensorFlow!'\n"
     ]
    }
   ],
   "source": [
    "# test\n",
    "\n",
    "import tensorflow as tf\n",
    "\n",
    "hello = tf.constant('Hello, TensorFlow!')\n",
    "sess = tf.Session()\n",
    "print(sess.run(hello))"
   ]
  },
  {
   "cell_type": "code",
   "execution_count": 2,
   "metadata": {
    "collapsed": true
   },
   "outputs": [],
   "source": [
    "import tensorflow as tf\n",
    "\n",
    "sess = tf.InteractiveSession()"
   ]
  },
  {
   "cell_type": "markdown",
   "metadata": {},
   "source": [
    "### Constants  \n",
    "tf.constant(value, dtype=None, shape=None, name='Const', verify_shape=False)"
   ]
  },
  {
   "cell_type": "code",
   "execution_count": 3,
   "metadata": {},
   "outputs": [
    {
     "data": {
      "text/plain": [
       "array([2, 2], dtype=int32)"
      ]
     },
     "execution_count": 3,
     "metadata": {},
     "output_type": "execute_result"
    }
   ],
   "source": [
    "# constant of 1d tensor (vector)\n",
    "a = tf.constant([2, 2], dtype=tf.int32, name=\"vector\")\n",
    "a.eval()"
   ]
  },
  {
   "cell_type": "code",
   "execution_count": 4,
   "metadata": {},
   "outputs": [
    {
     "data": {
      "text/plain": [
       "array([[0, 1],\n",
       "       [2, 3]], dtype=int32)"
      ]
     },
     "execution_count": 4,
     "metadata": {},
     "output_type": "execute_result"
    }
   ],
   "source": [
    "# constant of 2x2 tensor (matrix)\n",
    "b = tf.constant([[0, 1], [2, 3]], name=\"b\")\n",
    "b.eval()"
   ]
  },
  {
   "cell_type": "code",
   "execution_count": 6,
   "metadata": {},
   "outputs": [
    {
     "name": "stdout",
     "output_type": "stream",
     "text": [
      "[[0 0 0]\n",
      " [0 0 0]]\n",
      "[[1 1 1]\n",
      " [1 1 1]]\n"
     ]
    }
   ],
   "source": [
    "# We can also create tensors of a specific value.\n",
    "\n",
    "c = tf.zeros([2, 3], tf.int32) # [[0, 0, 0], [0, 0, 0]]\n",
    "print (c.eval())\n",
    "\n",
    "d = tf.ones([2, 3], tf.int32) #  [[1, 1, 1], [1, 1, 1]]\n",
    "print (d.eval())"
   ]
  },
  {
   "cell_type": "code",
   "execution_count": 7,
   "metadata": {},
   "outputs": [
    {
     "name": "stdout",
     "output_type": "stream",
     "text": [
      "[[ 0.  0.]\n",
      " [ 0.  0.]\n",
      " [ 0.  0.]]\n",
      "[[ 1.  1.]\n",
      " [ 1.  1.]\n",
      " [ 1.  1.]]\n"
     ]
    }
   ],
   "source": [
    "# create a tensor containing zeros, with shape and type as input_tensor\n",
    "\n",
    "input_tensor = tf.constant([[1,1], [2,2], [3,3]], dtype=tf.float32)\n",
    "e = tf.zeros_like(input_tensor)  #  [[0, 0], [0, 0], [0, 0]]\n",
    "print (e.eval())\n",
    "\n",
    "f = tf.ones_like(input_tensor) # [[1, 1], [1, 1], [1, 1]]\n",
    "print (f.eval())"
   ]
  },
  {
   "cell_type": "markdown",
   "metadata": {},
   "source": [
    "### Variables  \n",
    "Unlike a constant, a variable can be assigned to, so its value can be changed.   \n",
    "Also, a constant's value is stored on the graph, whereas a variable's value is stored seperately.  \n",
    "To declare a variable, we create a instance of tf.Variable."
   ]
  },
  {
   "cell_type": "code",
   "execution_count": 8,
   "metadata": {
    "collapsed": true
   },
   "outputs": [],
   "source": [
    "#create variable a with scalar value\n",
    "a = tf.Variable(2, name=\"scalar\")\n",
    "\n",
    "#create variable b as a vector\n",
    "b = tf.Variable([2, 3], name=\"vector\")\n",
    "\n",
    "#create variable c as a 2x2 matrix\n",
    "c = tf.Variable([[0, 1], [2, 3]], name=\"matrix\")\n",
    "\n",
    "# create variable W as 784 x 10 tensor, filled with zeros\n",
    "W = tf.Variable(tf.zeros([784,10]))"
   ]
  },
  {
   "cell_type": "markdown",
   "metadata": {},
   "source": [
    "To assign value to variables, we can use tf.Variable.assign().  \n",
    "It creates a operation that assigns the variable with the specified value.  \n",
    "Also, it is important to remember that a variable needs to be initialized before used.  \n",
    "To initialize variables, run tf.global_variables_initializer()."
   ]
  },
  {
   "cell_type": "code",
   "execution_count": 10,
   "metadata": {},
   "outputs": [
    {
     "data": {
      "text/plain": [
       "4"
      ]
     },
     "execution_count": 10,
     "metadata": {},
     "output_type": "execute_result"
    }
   ],
   "source": [
    "# assign a * 2 to a and call that op a_times_two\n",
    "'''\n",
    "# If a variable is used before initialized, an error will occur\n",
    "a = tf.Variable(2, name=\"scalar\")\n",
    "a.eval() # a is NOT initialized\n",
    "\n",
    "FailedPreconditionError\n",
    "'''\n",
    "a = tf.Variable(2, name=\"scalar\")\n",
    "a_times_two = a.assign(a*2) # an operation that assigns value a*2 to a\n",
    "\n",
    "init = tf.global_variables_initializer() # an operation that initializes all variables\n",
    "sess.run(init) # run the init operation with session\n",
    "sess.run(a_times_two)"
   ]
  },
  {
   "cell_type": "markdown",
   "metadata": {},
   "source": [
    "### Building a data flow graph  \n",
    "A TensorFlow constant is a type of node which takes no inputs and outputs the value it stores. "
   ]
  },
  {
   "cell_type": "code",
   "execution_count": 17,
   "metadata": {},
   "outputs": [
    {
     "name": "stdout",
     "output_type": "stream",
     "text": [
      "Tensor(\"Const_5:0\", shape=(), dtype=float32)\n",
      "Tensor(\"Const_6:0\", shape=(), dtype=float32)\n",
      "Tensor(\"Add_3:0\", shape=(), dtype=float32)\n"
     ]
    }
   ],
   "source": [
    "'''\n",
    "node1 = tf.Variable(3.0, dtype=tf.float32)\n",
    "node2 = tf.Variable(4.0) # also tf.float32 implicitly\n",
    "node3 = tf.add(node1, node2) \n",
    "\n",
    "FailedPreconditionError\n",
    "'''\n",
    "node1 = tf.constant(3.0, dtype=tf.float32)\n",
    "node2 = tf.constant(4.0) # also tf.float32 implicitly\n",
    "node3 = tf.add(node1, node2) \n",
    "\n",
    "print(node1) \n",
    "print(node2)\n",
    "print(node3)"
   ]
  },
  {
   "cell_type": "markdown",
   "metadata": {},
   "source": [
    "#### Visualizing and running a graph"
   ]
  },
  {
   "cell_type": "code",
   "execution_count": 18,
   "metadata": {
    "collapsed": true
   },
   "outputs": [],
   "source": [
    "# create a directory to store our graph\n",
    "import os\n",
    "\n",
    "logs_dir = './graph'\n",
    "if not os.path.exists(logs_dir):\n",
    "    os.makedirs(logs_dir)"
   ]
  },
  {
   "cell_type": "code",
   "execution_count": 19,
   "metadata": {},
   "outputs": [
    {
     "name": "stdout",
     "output_type": "stream",
     "text": [
      "[3.0, 4.0]\n",
      "7.0\n"
     ]
    }
   ],
   "source": [
    "# To evaluate a graph, a Session is used. \n",
    "# A TensorFlow session places operations onto devices such as CPUs and GPUs and runs them, and computes variable values.\n",
    "\n",
    "sess = tf.Session()\n",
    "print(sess.run([node1, node2]))\n",
    "print(sess.run(node3))\n",
    "sess.close() # close the session"
   ]
  },
  {
   "cell_type": "code",
   "execution_count": 20,
   "metadata": {},
   "outputs": [
    {
     "name": "stdout",
     "output_type": "stream",
     "text": [
      "[3.0, 4.0]\n",
      "7.0\n"
     ]
    }
   ],
   "source": [
    "with tf.Session() as sess:\n",
    "    # write operations to the event file\n",
    "    writer = tf.summary.FileWriter(logs_dir, sess.graph) \n",
    "    print(sess.run([node1, node2]))\n",
    "    print(sess.run(node3))\n",
    "    # no need to write sess.close()\n",
    "\n",
    "writer.close() "
   ]
  },
  {
   "cell_type": "markdown",
   "metadata": {},
   "source": [
    "### Placeholders and feed_dict  \n",
    "Creating a graph of constants as the above is not particularly useful.  \n",
    "A graph can be defined to accept external inputs without knowing the actual values needed for computation.  \n",
    "  \n",
    "A placeholder is used as a promise to provide a value later.  \n",
    "Then, values are fed into the placeholder by providing a dictionary containing concrete values as argument for feed_dict."
   ]
  },
  {
   "cell_type": "code",
   "execution_count": 22,
   "metadata": {},
   "outputs": [
    {
     "name": "stdout",
     "output_type": "stream",
     "text": [
      "[ 6.  7.  8.]\n"
     ]
    }
   ],
   "source": [
    "'''\n",
    "a = tf.placeholder(tf.float32, shape=[3])\n",
    "b = tf.constant([5, 5, 5], tf.float32)\n",
    "c = a + b # Short for tf.add(a, b)\n",
    "with tf.Session() as sess:\n",
    "    print(sess.run(c))\n",
    "\n",
    "InvalidArgumentError\n",
    "'''\n",
    "# create a placeholder of type float 32-bit, shape is a vector of 3 elements\n",
    "a = tf.placeholder(tf.float32, shape=[3])\n",
    "\n",
    "# create a constant of type float 32-bit, shape is a vector of 3 elements\n",
    "b = tf.constant([5, 5, 5], tf.float32)\n",
    "\n",
    "# use the placeholder as you would a constant or a variable\n",
    "c = a + b # Short for tf.add(a, b)\n",
    "\n",
    "with tf.Session() as sess:\n",
    "    # feed [1, 2, 3] to placeholder a via the dict {a: [1, 2, 3]}\n",
    "    # fetch value of c\n",
    "    print(sess.run(c, feed_dict={a: [1, 2, 3]}))"
   ]
  },
  {
   "cell_type": "markdown",
   "metadata": {},
   "source": [
    "### Sharing Variables  \n",
    "To share variables, we can explicitly pass tf.Variable objects or implicitly wrapping tf.Variable objects with tf.variable_scope objects.  \n",
    "Variable scopes not only allow us to share variables, they also make naming variables easier.  \n",
    "  \n",
    "Suppose we have multi-layered model, instead of coming up with different names for variables in different layers.  \n",
    "We can use different scopes to distinguish them. We can use tf.get_variable to get an existing variable, if the variable does not exist, a new one is created and returned."
   ]
  },
  {
   "cell_type": "code",
   "execution_count": 23,
   "metadata": {
    "collapsed": true
   },
   "outputs": [],
   "source": [
    "with tf.variable_scope(\"foo\"):\n",
    "    v = tf.get_variable(\"v\", [1])  # v.name == \"foo/v:0\"\n",
    "    w = tf.get_variable(\"w\", [1])  # w.name == \"foo/w:0\"\n",
    "with tf.variable_scope(\"foo\", reuse=True):\n",
    "    v1 = tf.get_variable(\"v\")  # The same as v above."
   ]
  },
  {
   "cell_type": "code",
   "execution_count": 24,
   "metadata": {
    "collapsed": true
   },
   "outputs": [],
   "source": [
    "# clear used variables in jupyter notebook\n",
    "%reset -fs "
   ]
  },
  {
   "cell_type": "code",
   "execution_count": null,
   "metadata": {
    "collapsed": true
   },
   "outputs": [],
   "source": []
  }
 ],
 "metadata": {
  "kernelspec": {
   "display_name": "Python 3",
   "language": "python",
   "name": "python3"
  },
  "language_info": {
   "codemirror_mode": {
    "name": "ipython",
    "version": 3
   },
   "file_extension": ".py",
   "mimetype": "text/x-python",
   "name": "python",
   "nbconvert_exporter": "python",
   "pygments_lexer": "ipython3",
   "version": "3.6.3"
  }
 },
 "nbformat": 4,
 "nbformat_minor": 2
}
