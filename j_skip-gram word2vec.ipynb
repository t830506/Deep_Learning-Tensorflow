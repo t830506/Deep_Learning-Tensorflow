{
 "cells": [
  {
   "cell_type": "markdown",
   "metadata": {},
   "source": [
    "Skip-gram word2vec:  \n",
    "https://github.com/mchablani/deep-learning/blob/master/embeddings/Skip-Gram_word2vec.ipynb "
   ]
  },
  {
   "cell_type": "code",
   "execution_count": 1,
   "metadata": {},
   "outputs": [
    {
     "name": "stderr",
     "output_type": "stream",
     "text": [
      "/Users/unahsu/anaconda3/lib/python3.6/importlib/_bootstrap.py:219: RuntimeWarning: compiletime version 3.5 of module 'tensorflow.python.framework.fast_tensor_util' does not match runtime version 3.6\n",
      "  return f(*args, **kwds)\n"
     ]
    }
   ],
   "source": [
    "import time\n",
    "\n",
    "import numpy as np\n",
    "import tensorflow as tf\n",
    "\n",
    "import utils"
   ]
  },
  {
   "cell_type": "code",
   "execution_count": 2,
   "metadata": {},
   "outputs": [
    {
     "name": "stdout",
     "output_type": "stream",
     "text": [
      "Dataset ready\n",
      "(64,)\n",
      "(64, 1)\n"
     ]
    }
   ],
   "source": [
    "from process_data import make_dir, download, read_data, build_vocab, convert_words_to_index, process_data, generate_sample, get_batch, get_batch_gen\n",
    "\n",
    "vocab_size = 10000\n",
    "window_sz = 5\n",
    "batch_sz = 64\n",
    "\n",
    "index_words, dictionary, index_dictionary = process_data(vocab_size)\n",
    "batch_gen = get_batch_gen(index_words, window_sz, batch_sz)\n",
    "X, y = next(batch_gen) #X=center, y=neighbor(number of neighbor is random(1~5) )\n",
    "\n",
    "print(X.shape)\n",
    "print(y.shape)"
   ]
  },
  {
   "cell_type": "markdown",
   "metadata": {},
   "source": [
    "### Building the graph"
   ]
  },
  {
   "cell_type": "code",
   "execution_count": 3,
   "metadata": {
    "collapsed": true
   },
   "outputs": [],
   "source": [
    "train_graph = tf.Graph()\n",
    "with train_graph.as_default():\n",
    "    inputs = tf.placeholder(tf.int32, [None], name='inputs')\n",
    "    labels = tf.placeholder(tf.int32, [None, None], name='labels')"
   ]
  },
  {
   "cell_type": "markdown",
   "metadata": {},
   "source": [
    "### Embedding"
   ]
  },
  {
   "cell_type": "code",
   "execution_count": 4,
   "metadata": {
    "collapsed": true
   },
   "outputs": [],
   "source": [
    "n_vocab = len(dictionary)\n",
    "n_embedding =  128\n",
    "\n",
    "with train_graph.as_default():\n",
    "    embedding = tf.Variable(tf.random_uniform((n_vocab, n_embedding), -1, 1))\n",
    "    embed = tf.nn.embedding_lookup(embedding, inputs) # use tf.nn.embedding_lookup to get the hidden layer output\n"
   ]
  },
  {
   "cell_type": "markdown",
   "metadata": {},
   "source": [
    "### Negative sampling"
   ]
  },
  {
   "cell_type": "code",
   "execution_count": 5,
   "metadata": {
    "collapsed": true
   },
   "outputs": [],
   "source": [
    "# Number of negative labels to sample\n",
    "n_sampled = 100\n",
    "with train_graph.as_default():\n",
    "    softmax_w = tf.Variable(tf.truncated_normal((n_vocab, n_embedding))) # (10000X300)create softmax weight matrix here\n",
    "    softmax_b = tf.Variable(tf.zeros(n_vocab), name=\"softmax_bias\") # create softmax biases here\n",
    "\n",
    "    # Calculate the loss using negative sampling\n",
    "    loss = tf.nn.sampled_softmax_loss(\n",
    "        weights=softmax_w,\n",
    "        biases=softmax_b,\n",
    "        labels=labels,\n",
    "        inputs=embed,\n",
    "        num_sampled=n_sampled,\n",
    "        num_classes=n_vocab)\n",
    "\n",
    "    cost = tf.reduce_mean(loss)\n",
    "    optimizer = tf.train.AdamOptimizer().minimize(cost)"
   ]
  },
  {
   "cell_type": "markdown",
   "metadata": {},
   "source": [
    "### Validation"
   ]
  },
  {
   "cell_type": "code",
   "execution_count": 6,
   "metadata": {
    "collapsed": true
   },
   "outputs": [],
   "source": [
    "import random\n",
    "\n",
    "with train_graph.as_default():\n",
    "    ## From Thushan Ganegedara's implementation\n",
    "    valid_size = 16 # Random set of words to evaluate similarity on.\n",
    "    valid_window = 100\n",
    "    # pick 8 samples from (0,100) and (1000,1100) each ranges. lower id implies more frequent \n",
    "    valid_examples = np.array(random.sample(range(valid_window), valid_size//2))\n",
    "    valid_examples = np.append(valid_examples, \n",
    "                               random.sample(range(1000,1000+valid_window), valid_size//2))\n",
    "\n",
    "    valid_dataset = tf.constant(valid_examples, dtype=tf.int32)\n",
    "    \n",
    "    # We use the cosine distance:\n",
    "    norm = tf.sqrt(tf.reduce_sum(tf.square(embedding), 1, keep_dims=True))\n",
    "    normalized_embedding = embedding / norm\n",
    "    valid_embedding = tf.nn.embedding_lookup(normalized_embedding, valid_dataset)\n",
    "    similarity = tf.matmul(valid_embedding, tf.transpose(normalized_embedding))"
   ]
  },
  {
   "cell_type": "code",
   "execution_count": 7,
   "metadata": {},
   "outputs": [
    {
     "name": "stdout",
     "output_type": "stream",
     "text": [
      "mkdir: checkpoints: File exists\r\n"
     ]
    }
   ],
   "source": [
    "# If the checkpoints directory doesn't exist:\n",
    "!mkdir checkpoints"
   ]
  },
  {
   "cell_type": "markdown",
   "metadata": {},
   "source": [
    "### Training"
   ]
  },
  {
   "cell_type": "code",
   "execution_count": null,
   "metadata": {
    "collapsed": true
   },
   "outputs": [],
   "source": [
    "def get_target(words, idx, window_size=5):\n",
    "    ''' Get a list of words in a window around an index. '''\n",
    "\n",
    "    R = np.random.randint(1, window_size+1)\n",
    "    start = idx - R if (idx - R) > 0 else 0\n",
    "    stop = idx + R\n",
    "    target_words = set(words[start:idx] + words[idx+1:stop+1])\n",
    "\n",
    "    return list(target_words)\n",
    "\n",
    "def get_batches(words, batch_size, window_size=5):\n",
    "    ''' Create a generator of word batches as a tuple (inputs, targets) '''\n",
    "\n",
    "    n_batches = len(words)//batch_size\n",
    "\n",
    "    # only full batches\n",
    "    words = words[ :n_batches*batch_size]\n",
    "\n",
    "    for idx in range(0, len(words), batch_size):\n",
    "        x, y = [], []\n",
    "        batch = words[idx:idx+batch_size]\n",
    "        for ii in range(len(batch)):\n",
    "            batch_x = batch[ii]\n",
    "            batch_y = get_target(batch, ii, window_size)\n",
    "            y.extend(batch_y)\n",
    "            x.extend([batch_x]*len(batch_y))\n",
    "        yield x, y"
   ]
  },
  {
   "cell_type": "code",
   "execution_count": null,
   "metadata": {},
   "outputs": [
    {
     "name": "stdout",
     "output_type": "stream",
     "text": [
      "Epoch 1/10 Iteration: 100 Avg. Training loss: 15.7813 0.0865 sec/batch\n",
      "Epoch 1/10 Iteration: 200 Avg. Training loss: 14.9820 0.0824 sec/batch\n",
      "Epoch 1/10 Iteration: 300 Avg. Training loss: 14.0716 0.0760 sec/batch\n",
      "Epoch 1/10 Iteration: 400 Avg. Training loss: 13.4099 0.0734 sec/batch\n",
      "Epoch 1/10 Iteration: 500 Avg. Training loss: 12.8676 0.0803 sec/batch\n",
      "Epoch 1/10 Iteration: 600 Avg. Training loss: 11.9998 0.0703 sec/batch\n",
      "Epoch 1/10 Iteration: 700 Avg. Training loss: 11.7526 0.0754 sec/batch\n",
      "Epoch 1/10 Iteration: 800 Avg. Training loss: 11.0329 0.0798 sec/batch\n",
      "Epoch 1/10 Iteration: 900 Avg. Training loss: 10.5593 0.0849 sec/batch\n",
      "Epoch 1/10 Iteration: 1000 Avg. Training loss: 9.9926 0.0826 sec/batch\n",
      "Nearest to four: classic, save, births, prophets, sketches, late, actress, table,\n",
      "Nearest to will: parish, reply, sentenced, partial, formed, dam, inclined, capita,\n",
      "Nearest to zero: garden, his, sailors, kinds, massachusetts, designed, holidays, frequently,\n",
      "Nearest to who: facilities, fulfilled, quotes, uniform, certain, entered, spelled, authoritative,\n",
      "Nearest to state: shelley, overcome, haiti, nl, dolphins, desk, crystal, assuming,\n",
      "Nearest to use: component, attached, emerging, cowboy, dada, classify, announcement, arrest,\n",
      "Nearest to d: nephew, public, robots, larger, bet, africa, associated, conservative,\n",
      "Nearest to called: appreciation, self, crystals, specifically, firmly, repeated, screens, nfl,\n",
      "Nearest to governor: penalties, traditionally, found, speakers, critical, elsewhere, ribbentrop, visit,\n",
      "Nearest to running: zones, ambient, politicians, phi, guard, grandfather, perl, unless,\n",
      "Nearest to additional: subject, apply, cameroon, settlements, method, accurately, imf, zealand,\n",
      "Nearest to notes: codified, stayed, messages, contexts, cricket, mazda, popular, mate,\n",
      "Nearest to except: strand, love, divinity, ball, lives, einstein, seminal, tertiary,\n",
      "Nearest to egypt: compiled, doors, populous, baptized, potter, ark, likely, bore,\n",
      "Nearest to troops: bright, afghanistan, influx, message, sticks, decree, prayers, produced,\n",
      "Nearest to mean: indigenous, gdp, advocate, treating, depicts, drive, hall, horn,\n",
      "Epoch 1/10 Iteration: 1100 Avg. Training loss: 9.5544 0.0856 sec/batch\n",
      "Epoch 1/10 Iteration: 1200 Avg. Training loss: 9.4624 0.0906 sec/batch\n",
      "Epoch 1/10 Iteration: 1300 Avg. Training loss: 9.5353 0.0924 sec/batch\n",
      "Epoch 1/10 Iteration: 1400 Avg. Training loss: 9.1672 0.0834 sec/batch\n",
      "Epoch 1/10 Iteration: 1500 Avg. Training loss: 8.8899 0.0924 sec/batch\n",
      "Epoch 1/10 Iteration: 1600 Avg. Training loss: 8.6582 0.0910 sec/batch\n",
      "Epoch 1/10 Iteration: 1700 Avg. Training loss: 8.4254 0.0855 sec/batch\n",
      "Epoch 1/10 Iteration: 1800 Avg. Training loss: 8.2018 0.0810 sec/batch\n",
      "Epoch 1/10 Iteration: 1900 Avg. Training loss: 7.6866 0.0888 sec/batch\n"
     ]
    }
   ],
   "source": [
    "epochs = 10\n",
    "batch_size = 1000\n",
    "window_size = 5\n",
    "\n",
    "with train_graph.as_default():\n",
    "    saver = tf.train.Saver()\n",
    "\n",
    "with tf.Session(graph=train_graph) as sess:\n",
    "    iteration = 1\n",
    "    loss = 0\n",
    "    sess.run(tf.global_variables_initializer())\n",
    "\n",
    "    for e in range(1, epochs+1):\n",
    "        batches = get_batches(index_words, batch_size, window_size)\n",
    "        start = time.time()\n",
    "        for x, y in batches:\n",
    "\n",
    "            feed = {inputs: x,\n",
    "                    labels: np.array(y)[:, None]}\n",
    "            train_loss, _ = sess.run([cost, optimizer], feed_dict=feed)\n",
    "\n",
    "            loss += train_loss\n",
    "            \n",
    "            if iteration % 100 == 0: \n",
    "                end = time.time()\n",
    "                print(\"Epoch {}/{}\".format(e, epochs),\n",
    "                      \"Iteration: {}\".format(iteration),\n",
    "                      \"Avg. Training loss: {:.4f}\".format(loss/100),\n",
    "                      \"{:.4f} sec/batch\".format((end-start)/100))\n",
    "                loss = 0\n",
    "                start = time.time()\n",
    "\n",
    "            if iteration % 1000 == 0:\n",
    "                ## From Thushan Ganegedara's implementation\n",
    "                # note that this is expensive (~20% slowdown if computed every 500 steps)\n",
    "                sim = similarity.eval()\n",
    "                for i in range(valid_size):\n",
    "                    valid_word = index_dictionary[valid_examples[i]]\n",
    "                    top_k = 8 # number of nearest neighbors\n",
    "                    nearest = (-sim[i, :]).argsort()[1:top_k+1]\n",
    "                    log = 'Nearest to %s:' % valid_word\n",
    "                    for k in range(top_k):\n",
    "                        close_word = index_dictionary[nearest[k]]\n",
    "                        log = '%s %s,' % (log, close_word)\n",
    "                    print(log)\n",
    "            \n",
    "            iteration += 1\n",
    "    save_path = saver.save(sess, \"checkpoints/text8.ckpt\")\n",
    "    embed_mat = sess.run(normalized_embedding)\n"
   ]
  },
  {
   "cell_type": "code",
   "execution_count": null,
   "metadata": {
    "collapsed": true
   },
   "outputs": [],
   "source": [
    "with train_graph.as_default():\n",
    "    saver = tf.train.Saver()\n",
    "\n",
    "with tf.Session(graph=train_graph) as sess:\n",
    "    saver.restore(sess, tf.train.latest_checkpoint('checkpoints'))\n",
    "    embed_mat = sess.run(embedding)"
   ]
  },
  {
   "cell_type": "markdown",
   "metadata": {},
   "source": [
    "### Visualizing the word vectors"
   ]
  },
  {
   "cell_type": "code",
   "execution_count": null,
   "metadata": {
    "collapsed": true
   },
   "outputs": [],
   "source": [
    "%matplotlib inline\n",
    "%config InlineBackend.figure_format = 'retina'\n",
    "\n",
    "import matplotlib.pyplot as plt\n",
    "from sklearn.manifold import TSNE\n",
    "\n",
    "viz_words = 500\n",
    "tsne = TSNE()\n",
    "embed_tsne = tsne.fit_transform(embed_mat[:viz_words, :])\n",
    "\n",
    "fig, ax = plt.subplots(figsize=(14, 14))\n",
    "for idx in range(viz_words):\n",
    "    plt.scatter(*embed_tsne[idx, :], color='steelblue')\n",
    "    plt.annotate(index_dictionary[idx], (embed_tsne[idx, 0], embed_tsne[idx, 1]), alpha=0.7)"
   ]
  },
  {
   "cell_type": "code",
   "execution_count": null,
   "metadata": {
    "collapsed": true
   },
   "outputs": [],
   "source": []
  }
 ],
 "metadata": {
  "kernelspec": {
   "display_name": "Python 3",
   "language": "python",
   "name": "python3"
  },
  "language_info": {
   "codemirror_mode": {
    "name": "ipython",
    "version": 3
   },
   "file_extension": ".py",
   "mimetype": "text/x-python",
   "name": "python",
   "nbconvert_exporter": "python",
   "pygments_lexer": "ipython3",
   "version": "3.6.3"
  }
 },
 "nbformat": 4,
 "nbformat_minor": 2
}
